{
 "cells": [
  {
   "cell_type": "code",
   "execution_count": 1,
   "id": "familiar-picnic",
   "metadata": {},
   "outputs": [],
   "source": [
    "from keras.preprocessing.image import ImageDataGenerator, array_to_img, img_to_array, load_img\n",
    "import numpy as np"
   ]
  },
  {
   "cell_type": "code",
   "execution_count": 2,
   "id": "interracial-objective",
   "metadata": {},
   "outputs": [],
   "source": [
    "# reference https://www.tensorflow.org/api_docs/python/tf/keras/preprocessing/image/ImageDataGenerator\n",
    "\n",
    "data_generator = ImageDataGenerator(\n",
    "                rotation_range =10,\n",
    "                width_shift_range = 0.2,\n",
    "                height_shift_range = 0.2,\n",
    "                shear_range = 0.1,\n",
    "                zoom_range = 0.1,\n",
    "                fill_mode = 'nearest'\n",
    "                )"
   ]
  },
  {
   "cell_type": "code",
   "execution_count": 4,
   "id": "dress-divorce",
   "metadata": {},
   "outputs": [
    {
     "name": "stdout",
     "output_type": "stream",
     "text": [
      "['0\\\\fix20.jpg', '0\\\\fix27.jpg']\n",
      "['1\\\\fix20.jpg', '1\\\\fix26.jpg', '1\\\\fix27.jpg', '1\\\\fix30.jpg', '1\\\\fix32.jpg']\n",
      "['2\\\\fix22.jpg', '2\\\\fix26.jpg', '2\\\\fix28.jpg', '2\\\\fix30.jpg', '2\\\\fix31.jpg', '2\\\\fix32.jpg', '2\\\\fix34.jpg']\n",
      "['3\\\\fix20.jpg', '3\\\\fix23.jpg', '3\\\\fix24.jpg', '3\\\\fix26.jpg', '3\\\\fix27.jpg', '3\\\\fix28.jpg', '3\\\\fix32.jpg', '3\\\\fix33.jpg', '3\\\\fix34.jpg', '3\\\\fix37.jpg']\n",
      "['4\\\\fix21.jpg', '4\\\\fix22.jpg', '4\\\\fix24.jpg', '4\\\\fix25.jpg', '4\\\\fix252.jpg', '4\\\\fix31.jpg', '4\\\\fix35.jpg', '4\\\\fix37.jpg']\n",
      "['5\\\\fix33.jpg', '5\\\\fix35.jpg']\n",
      "[]\n",
      "['7\\\\fix21.jpg']\n",
      "['8\\\\fix23.jpg']\n",
      "[]\n",
      "['F\\\\fix20.jpg', 'F\\\\fix21.jpg', 'F\\\\fix22.jpg', 'F\\\\fix23.jpg', 'F\\\\fix24.jpg', 'F\\\\fix25.jpg', 'F\\\\fix26.jpg', 'F\\\\fix27.jpg', 'F\\\\fix28.jpg', 'F\\\\fix30.jpg', 'F\\\\fix31.jpg', 'F\\\\fix32.jpg', 'F\\\\fix33.jpg', 'F\\\\fix34.jpg', 'F\\\\fix35.jpg', 'F\\\\fix37.jpg']\n"
     ]
    }
   ],
   "source": [
    "import glob\n",
    "classes = [\"0\",\"1\",\"2\",\"3\",\"4\",\"5\",\"6\",\"7\",\"8\",\"9\",\"F\"]\n",
    "\n",
    "for char in classes:\n",
    "    images = glob.glob(f'{char}/*.jpg')\n",
    "    for img in images:\n",
    "        imgs = load_img(img)\n",
    "        img = img_to_array(imgs)\n",
    "        img = img.reshape((1,) + img.shape)\n",
    "        \n",
    "        i = 0\n",
    "\n",
    "        for batch in data_generator.flow(img, batch_size=1, save_to_dir=f'{char}/export', save_prefix='{char}', save_format='jpg'):\n",
    "            i += 1\n",
    "            if i > 200:\n",
    "                break\n",
    "        \n",
    "    print(images)"
   ]
  },
  {
   "cell_type": "code",
   "execution_count": 113,
   "id": "particular-taxation",
   "metadata": {},
   "outputs": [],
   "source": [
    "imgs = load_img('f/fix37.jpg')\n",
    "img = img_to_array(imgs)\n",
    "img = img.reshape((1,) + img.shape)\n",
    "\n",
    "i = 0\n",
    "\n",
    "for batch in data_generator.flow(img, batch_size=1,\n",
    "                                save_to_dir='f/export', save_prefix='fix37', save_format='jpg'):\n",
    "    i += 1\n",
    "    if i > 200:\n",
    "        break"
   ]
  },
  {
   "cell_type": "code",
   "execution_count": 114,
   "id": "medical-encyclopedia",
   "metadata": {},
   "outputs": [],
   "source": [
    "import glob\n",
    "import cv2 as cv"
   ]
  },
  {
   "cell_type": "code",
   "execution_count": 116,
   "id": "competitive-blend",
   "metadata": {},
   "outputs": [
    {
     "data": {
      "text/plain": [
       "(6572, 30, 30, 3)"
      ]
     },
     "execution_count": 116,
     "metadata": {},
     "output_type": "execute_result"
    }
   ],
   "source": [
    "filelist_f = glob.glob('F/export/*.jpg')\n",
    "count = 0\n",
    "\n",
    "for file in filelist_f:\n",
    "    img = cv.imread(file)\n",
    "    height = 30\n",
    "    width = 30\n",
    "    img = cv.resize(img, (height, width) , interpolation = cv.INTER_AREA)\n",
    "    cv.imwrite(f'F/fix/{count}.jpg', img)\n",
    "    count += 1\n",
    "    \n",
    "filelist_rezie_f = glob.glob('F/fix/*.jpg')\n",
    "\n",
    "array_f = np.array([np.array(cv.imread(fname)) for fname in filelist_rezie_f])\n",
    "array_f.shape"
   ]
  },
  {
   "cell_type": "code",
   "execution_count": 117,
   "id": "driving-static",
   "metadata": {},
   "outputs": [
    {
     "data": {
      "text/plain": [
       "(798, 30, 30, 3)"
      ]
     },
     "execution_count": 117,
     "metadata": {},
     "output_type": "execute_result"
    }
   ],
   "source": [
    "filelist_0 = glob.glob('0/export/*.jpg')\n",
    "count = 0\n",
    "\n",
    "for file in filelist_0:\n",
    "    img = cv.imread(file)\n",
    "    height = 30\n",
    "    width = 30\n",
    "    img = cv.resize(img, (height, width) , interpolation = cv.INTER_AREA)\n",
    "    cv.imwrite(f'0/fix/{count}.jpg', img)\n",
    "    count += 1\n",
    "    \n",
    "filelist_rezie_0 = glob.glob('0/fix/*.jpg')\n",
    "\n",
    "array_0 = np.array([np.array(cv.imread(fname)) for fname in filelist_rezie_0])\n",
    "array_0.shape"
   ]
  },
  {
   "cell_type": "code",
   "execution_count": 118,
   "id": "tracked-divide",
   "metadata": {},
   "outputs": [
    {
     "data": {
      "text/plain": [
       "(1792, 30, 30, 3)"
      ]
     },
     "execution_count": 118,
     "metadata": {},
     "output_type": "execute_result"
    }
   ],
   "source": [
    "filelist_1 = glob.glob('1/export/*.jpg')\n",
    "count = 0\n",
    "\n",
    "for file in filelist_1:\n",
    "    img = cv.imread(file)\n",
    "    height = 30\n",
    "    width = 30\n",
    "    img = cv.resize(img, (height, width) , interpolation = cv.INTER_AREA)\n",
    "    cv.imwrite(f'1/fix/{count}.jpg', img)\n",
    "    count += 1\n",
    "    \n",
    "filelist_rezie_1 = glob.glob('1/fix/*.jpg')\n",
    "\n",
    "array_1 = np.array([np.array(cv.imread(fname)) for fname in filelist_rezie_1])\n",
    "array_1.shape"
   ]
  },
  {
   "cell_type": "code",
   "execution_count": 119,
   "id": "blessed-winning",
   "metadata": {},
   "outputs": [
    {
     "data": {
      "text/plain": [
       "(3179, 30, 30, 3)"
      ]
     },
     "execution_count": 119,
     "metadata": {},
     "output_type": "execute_result"
    }
   ],
   "source": [
    "filelist_2 = glob.glob('2/export/*.jpg')\n",
    "count = 0\n",
    "\n",
    "for file in filelist_2:\n",
    "    img = cv.imread(file)\n",
    "    height = 30\n",
    "    width = 30\n",
    "    img = cv.resize(img, (height, width) , interpolation = cv.INTER_AREA)\n",
    "    cv.imwrite(f'2/fix/{count}.jpg', img)\n",
    "    count += 1\n",
    "    \n",
    "filelist_rezie_2 = glob.glob('2/fix/*.jpg')\n",
    "\n",
    "array_2 = np.array([np.array(cv.imread(fname)) for fname in filelist_rezie_2])\n",
    "array_2.shape"
   ]
  },
  {
   "cell_type": "code",
   "execution_count": 120,
   "id": "lonely-toronto",
   "metadata": {},
   "outputs": [
    {
     "data": {
      "text/plain": [
       "(3389, 30, 30, 3)"
      ]
     },
     "execution_count": 120,
     "metadata": {},
     "output_type": "execute_result"
    }
   ],
   "source": [
    "filelist_3 = glob.glob('3/export/*.jpg')\n",
    "count = 0\n",
    "\n",
    "for file in filelist_3:\n",
    "    img = cv.imread(file)\n",
    "    height = 30\n",
    "    width = 30\n",
    "    img = cv.resize(img, (height, width) , interpolation = cv.INTER_AREA)\n",
    "    cv.imwrite(f'3/fix/{count}.jpg', img)\n",
    "    count += 1\n",
    "    \n",
    "filelist_rezie_3 = glob.glob('3/fix/*.jpg')\n",
    "\n",
    "array_3 = np.array([np.array(cv.imread(fname)) for fname in filelist_rezie_3])\n",
    "array_3.shape"
   ]
  },
  {
   "cell_type": "code",
   "execution_count": 121,
   "id": "plastic-chest",
   "metadata": {},
   "outputs": [
    {
     "data": {
      "text/plain": [
       "(3976, 30, 30, 3)"
      ]
     },
     "execution_count": 121,
     "metadata": {},
     "output_type": "execute_result"
    }
   ],
   "source": [
    "filelist_4 = glob.glob('4/export/*.jpg')\n",
    "count = 0\n",
    "\n",
    "for file in filelist_4:\n",
    "    img = cv.imread(file)\n",
    "    height = 30\n",
    "    width = 30\n",
    "    img = cv.resize(img, (height, width) , interpolation = cv.INTER_AREA)\n",
    "    cv.imwrite(f'4/fix/{count}.jpg', img)\n",
    "    count += 1\n",
    "    \n",
    "filelist_rezie_4 = glob.glob('4/fix/*.jpg')\n",
    "\n",
    "array_4 = np.array([np.array(cv.imread(fname)) for fname in filelist_rezie_4])\n",
    "array_4.shape"
   ]
  },
  {
   "cell_type": "code",
   "execution_count": 122,
   "id": "social-academy",
   "metadata": {},
   "outputs": [
    {
     "data": {
      "text/plain": [
       "(598, 30, 30, 3)"
      ]
     },
     "execution_count": 122,
     "metadata": {},
     "output_type": "execute_result"
    }
   ],
   "source": [
    "filelist_5 = glob.glob('5/export/*.jpg')\n",
    "count = 0\n",
    "\n",
    "for file in filelist_5:\n",
    "    img = cv.imread(file)\n",
    "    height = 30\n",
    "    width = 30\n",
    "    img = cv.resize(img, (height, width) , interpolation = cv.INTER_AREA)\n",
    "    cv.imwrite(f'5/fix/{count}.jpg', img)\n",
    "    count += 1\n",
    "    \n",
    "filelist_rezie_5 = glob.glob('5/fix/*.jpg')\n",
    "\n",
    "array_5 = np.array([np.array(cv.imread(fname)) for fname in filelist_rezie_5])\n",
    "array_5.shape"
   ]
  },
  {
   "cell_type": "code",
   "execution_count": 123,
   "id": "athletic-habitat",
   "metadata": {},
   "outputs": [
    {
     "data": {
      "text/plain": [
       "(398, 30, 30, 3)"
      ]
     },
     "execution_count": 123,
     "metadata": {},
     "output_type": "execute_result"
    }
   ],
   "source": [
    "filelist_6 = glob.glob('6/export/*.jpg')\n",
    "count = 0\n",
    "\n",
    "for file in filelist_6:\n",
    "    img = cv.imread(file)\n",
    "    height = 30\n",
    "    width = 30\n",
    "    img = cv.resize(img, (height, width) , interpolation = cv.INTER_AREA)\n",
    "    cv.imwrite(f'6/fix/{count}.jpg', img)\n",
    "    count += 1\n",
    "    \n",
    "filelist_rezie_6 = glob.glob('6/fix/*.jpg')\n",
    "\n",
    "array_6 = np.array([np.array(cv.imread(fname)) for fname in filelist_rezie_6])\n",
    "array_6.shape"
   ]
  },
  {
   "cell_type": "code",
   "execution_count": 124,
   "id": "facial-johnston",
   "metadata": {},
   "outputs": [
    {
     "data": {
      "text/plain": [
       "(489, 30, 30, 3)"
      ]
     },
     "execution_count": 124,
     "metadata": {},
     "output_type": "execute_result"
    }
   ],
   "source": [
    "filelist_7 = glob.glob('7/export/*.jpg')\n",
    "count = 0\n",
    "\n",
    "for file in filelist_7:\n",
    "    img = cv.imread(file)\n",
    "    height = 30\n",
    "    width = 30\n",
    "    img = cv.resize(img, (height, width) , interpolation = cv.INTER_AREA)\n",
    "    cv.imwrite(f'7/fix/{count}.jpg', img)\n",
    "    count += 1\n",
    "    \n",
    "filelist_rezie_7 = glob.glob('7/fix/*.jpg')\n",
    "\n",
    "array_7 = np.array([np.array(cv.imread(fname)) for fname in filelist_rezie_7])\n",
    "array_7.shape"
   ]
  },
  {
   "cell_type": "code",
   "execution_count": 125,
   "id": "contemporary-player",
   "metadata": {},
   "outputs": [
    {
     "data": {
      "text/plain": [
       "(600, 30, 30, 3)"
      ]
     },
     "execution_count": 125,
     "metadata": {},
     "output_type": "execute_result"
    }
   ],
   "source": [
    "filelist_8 = glob.glob('8/export/*.jpg')\n",
    "count = 0\n",
    "\n",
    "for file in filelist_8:\n",
    "    img = cv.imread(file)\n",
    "    height = 30\n",
    "    width = 30\n",
    "    img = cv.resize(img, (height, width) , interpolation = cv.INTER_AREA)\n",
    "    cv.imwrite(f'8/fix/{count}.jpg', img)\n",
    "    count += 1\n",
    "    \n",
    "filelist_rezie_8 = glob.glob('8/fix/*.jpg')\n",
    "\n",
    "array_8 = np.array([np.array(cv.imread(fname)) for fname in filelist_rezie_8])\n",
    "array_8.shape"
   ]
  },
  {
   "cell_type": "code",
   "execution_count": 126,
   "id": "exciting-crazy",
   "metadata": {},
   "outputs": [
    {
     "data": {
      "text/plain": [
       "(672, 30, 30, 3)"
      ]
     },
     "execution_count": 126,
     "metadata": {},
     "output_type": "execute_result"
    }
   ],
   "source": [
    "filelist_9 = glob.glob('9/export/*.jpg')\n",
    "count = 0\n",
    "\n",
    "for file in filelist_9:\n",
    "    img = cv.imread(file)\n",
    "    height = 30\n",
    "    width = 30\n",
    "    img = cv.resize(img, (height, width) , interpolation = cv.INTER_AREA)\n",
    "    cv.imwrite(f'9/fix/{count}.jpg', img)\n",
    "    count += 1\n",
    "    \n",
    "filelist_rezie_9 = glob.glob('9/fix/*.jpg')\n",
    "\n",
    "array_9 = np.array([np.array(cv.imread(fname)) for fname in filelist_rezie_9])\n",
    "array_9.shape"
   ]
  },
  {
   "cell_type": "code",
   "execution_count": 127,
   "id": "buried-sherman",
   "metadata": {},
   "outputs": [
    {
     "data": {
      "text/plain": [
       "(22463, 30, 30, 3)"
      ]
     },
     "execution_count": 127,
     "metadata": {},
     "output_type": "execute_result"
    }
   ],
   "source": [
    "array_fix = np.concatenate((array_0,  array_1, array_2,  array_3,  array_4,  array_5,  array_6, array_7, array_8, array_9, array_f))\n",
    "array_fix.shape"
   ]
  },
  {
   "cell_type": "code",
   "execution_count": 131,
   "id": "champion-poetry",
   "metadata": {},
   "outputs": [
    {
     "data": {
      "image/png": "[encoded data removed]",
      "text/plain": [
       "<Figure size 1080x144 with 1 Axes>"
      ]
     },
     "metadata": {
      "needs_background": "light"
     },
     "output_type": "display_data"
    }
   ],
   "source": [
    "import matplotlib.pyplot as plt\n",
    "\n",
    "def plot_sample(X, index):\n",
    "    plt.figure(figsize = (15,2))\n",
    "    plt.imshow(X[index])\n",
    "    \n",
    "\n",
    "plot_sample(array_fix, 1523)"
   ]
  },
  {
   "cell_type": "code",
   "execution_count": 132,
   "id": "limited-obligation",
   "metadata": {},
   "outputs": [],
   "source": [
    "amount_f, heightF, widthF, channelF = array_f.shape\n",
    "amount_0, height0, width0, channel0 = array_0.shape\n",
    "amount_1, height1, width1, channel1 = array_1.shape\n",
    "amount_2, height2, width2, channel2 = array_2.shape\n",
    "amount_3, height3, width3, channel3 = array_3.shape\n",
    "amount_4, height4, width4, channel4 = array_4.shape\n",
    "amount_5, height5, width5, channel5 = array_5.shape\n",
    "amount_6, height6, width6, channel6 = array_6.shape\n",
    "amount_7, height7, width7, channel7 = array_7.shape\n",
    "amount_8, height8, width8, channel8 = array_8.shape\n",
    "amount_9, height9, width9, channel9 = array_9.shape"
   ]
  },
  {
   "cell_type": "code",
   "execution_count": 144,
   "id": "proved-generic",
   "metadata": {},
   "outputs": [
    {
     "data": {
      "text/plain": [
       "22463"
      ]
     },
     "execution_count": 144,
     "metadata": {},
     "output_type": "execute_result"
    }
   ],
   "source": [
    "amount_0 + amount_1 + amount_2 + amount_3 + amount_4 + amount_5 + amount_6 + amount_7 + amount_8 + amount_9 + amount_f"
   ]
  },
  {
   "cell_type": "code",
   "execution_count": 145,
   "id": "integral-vulnerability",
   "metadata": {},
   "outputs": [
    {
     "data": {
      "text/plain": [
       "(22463,)"
      ]
     },
     "execution_count": 145,
     "metadata": {},
     "output_type": "execute_result"
    }
   ],
   "source": [
    "count = 0\n",
    "array_label = []\n",
    "\n",
    "\n",
    "for i in range(22463):\n",
    "    if i < 798:\n",
    "        array_label.append(0)\n",
    "    elif i >= 798 and i < 2590:\n",
    "        array_label.append(1)\n",
    "    elif i >= 2590 and i < 5769:\n",
    "        array_label.append(2)\n",
    "    elif i >= 5769 and i < 9158:\n",
    "        array_label.append(3)\n",
    "    elif i >= 9158 and i < 13134:\n",
    "        array_label.append(4)\n",
    "    elif i >= 13134 and i < 13732:\n",
    "        array_label.append(5)\n",
    "    elif i >= 13732 and i < 14130:\n",
    "        array_label.append(6)\n",
    "    elif i >= 14130 and i < 14619:\n",
    "        array_label.append(7)\n",
    "    elif i >= 14619 and i < 15219:\n",
    "        array_label.append(8)\n",
    "    elif i >= 15219 and i < 15891:\n",
    "        array_label.append(9)\n",
    "    elif i >= 15891 and i < 22463:\n",
    "        array_label.append(10)\n",
    "\n",
    "numpy_label = np.array(array_label)\n",
    "numpy_label.shape"
   ]
  },
  {
   "cell_type": "code",
   "execution_count": 146,
   "id": "perfect-opposition",
   "metadata": {},
   "outputs": [
    {
     "data": {
      "text/plain": [
       "1"
      ]
     },
     "execution_count": 146,
     "metadata": {},
     "output_type": "execute_result"
    }
   ],
   "source": [
    "numpy_label[2000]"
   ]
  },
  {
   "cell_type": "code",
   "execution_count": 147,
   "id": "friendly-booth",
   "metadata": {},
   "outputs": [],
   "source": [
    "classes = [\"0\",\"1\",\"2\",\"3\",\"4\",\"5\",\"6\",\"7\",\"8\",\"9\",\"F\"]"
   ]
  },
  {
   "cell_type": "code",
   "execution_count": 148,
   "id": "healthy-tradition",
   "metadata": {},
   "outputs": [],
   "source": [
    "def plot_sample_label(X, y, index):\n",
    "    plt.figure(figsize = (15,2))\n",
    "    plt.imshow(X[index])\n",
    "    plt.xlabel(classes[y[index]])"
   ]
  },
  {
   "cell_type": "code",
   "execution_count": 153,
   "id": "exceptional-politics",
   "metadata": {},
   "outputs": [
    {
     "data": {
      "image/png": "[encoded data removed]",
      "text/plain": [
       "<Figure size 1080x144 with 1 Axes>"
      ]
     },
     "metadata": {
      "needs_background": "light"
     },
     "output_type": "display_data"
    }
   ],
   "source": [
    "plot_sample_label(array_fix, numpy_label, 2000)"
   ]
  },
  {
   "cell_type": "code",
   "execution_count": 154,
   "id": "commercial-litigation",
   "metadata": {},
   "outputs": [],
   "source": [
    "features = array_fix / 255.0\n",
    "label = numpy_label"
   ]
  },
  {
   "cell_type": "code",
   "execution_count": 155,
   "id": "dental-score",
   "metadata": {},
   "outputs": [],
   "source": [
    "np.save('numpy/data_features.npy', features)\n",
    "np.save('numpy/data_label.npy', label)"
   ]
  },
  {
   "cell_type": "code",
   "execution_count": null,
   "id": "important-language",
   "metadata": {},
   "outputs": [],
   "source": []
  }
 ],
 "metadata": {
  "kernelspec": {
   "display_name": "Python 3",
   "language": "python",
   "name": "python3"
  },
  "language_info": {
   "codemirror_mode": {
    "name": "ipython",
    "version": 3
   },
   "file_extension": ".py",
   "mimetype": "text/x-python",
   "name": "python",
   "nbconvert_exporter": "python",
   "pygments_lexer": "ipython3",
   "version": "3.8.8"
  }
 },
 "nbformat": 4,
 "nbformat_minor": 5
}
