{
 "cells": [
  {
   "cell_type": "code",
   "execution_count": 14,
   "id": "exotic-freeze",
   "metadata": {},
   "outputs": [
    {
     "data": {
      "text/plain": [
       "(22463, 30, 30, 3)"
      ]
     },
     "execution_count": 14,
     "metadata": {},
     "output_type": "execute_result"
    }
   ],
   "source": [
    "import numpy as np\n",
    "\n",
    "features = np.load('numpy/data_features.npy')\n",
    "features.shape"
   ]
  },
  {
   "cell_type": "code",
   "execution_count": 15,
   "id": "adolescent-launch",
   "metadata": {},
   "outputs": [
    {
     "data": {
      "text/plain": [
       "(22463,)"
      ]
     },
     "execution_count": 15,
     "metadata": {},
     "output_type": "execute_result"
    }
   ],
   "source": [
    "label = np.load('numpy/data_label.npy')\n",
    "label.shape"
   ]
  },
  {
   "cell_type": "code",
   "execution_count": 16,
   "id": "ruled-blood",
   "metadata": {},
   "outputs": [],
   "source": [
    "def plot_sample_label(X, y, index):\n",
    "    plt.figure(figsize = (15,2))\n",
    "    plt.imshow(X[index])\n",
    "    plt.xlabel(classes[y[index]])"
   ]
  },
  {
   "cell_type": "code",
   "execution_count": 22,
   "id": "manual-medium",
   "metadata": {},
   "outputs": [
    {
     "data": {
      "image/png": "[encoded data removed]",
      "text/plain": [
       "<Figure size 1080x144 with 1 Axes>"
      ]
     },
     "metadata": {
      "needs_background": "light"
     },
     "output_type": "display_data"
    }
   ],
   "source": [
    "plot_sample_label(features, label, 5768)"
   ]
  },
  {
   "cell_type": "code",
   "execution_count": 23,
   "id": "australian-elevation",
   "metadata": {},
   "outputs": [],
   "source": [
    "from sklearn.model_selection import train_test_split\n",
    "x_train, x_test, y_train, y_test = train_test_split(features, label, test_size=0.25, random_state=101)"
   ]
  },
  {
   "cell_type": "code",
   "execution_count": 28,
   "id": "following-sunrise",
   "metadata": {},
   "outputs": [
    {
     "name": "stdout",
     "output_type": "stream",
     "text": [
      "Epoch 1/20\n",
      "527/527 [==============================] - 12s 22ms/step - loss: 1.2644 - accuracy: 0.5836\n",
      "Epoch 2/20\n",
      "527/527 [==============================] - 11s 22ms/step - loss: 0.0649 - accuracy: 0.9806\n",
      "Epoch 3/20\n",
      "527/527 [==============================] - 12s 23ms/step - loss: 0.0192 - accuracy: 0.9944\n",
      "Epoch 4/20\n",
      "527/527 [==============================] - 14s 26ms/step - loss: 0.0164 - accuracy: 0.9952\n",
      "Epoch 5/20\n",
      "527/527 [==============================] - 13s 24ms/step - loss: 0.0046 - accuracy: 0.9988\n",
      "Epoch 6/20\n",
      "527/527 [==============================] - 13s 24ms/step - loss: 0.0225 - accuracy: 0.9932\n",
      "Epoch 7/20\n",
      "527/527 [==============================] - 14s 26ms/step - loss: 0.0050 - accuracy: 0.9988\n",
      "Epoch 8/20\n",
      "527/527 [==============================] - 12s 22ms/step - loss: 0.0137 - accuracy: 0.9961\n",
      "Epoch 9/20\n",
      "527/527 [==============================] - 12s 22ms/step - loss: 0.0054 - accuracy: 0.9985\n",
      "Epoch 10/20\n",
      "527/527 [==============================] - 12s 22ms/step - loss: 1.5166e-04 - accuracy: 1.0000\n",
      "Epoch 11/20\n",
      "527/527 [==============================] - 12s 22ms/step - loss: 4.0468e-05 - accuracy: 1.0000\n",
      "Epoch 12/20\n",
      "527/527 [==============================] - 12s 22ms/step - loss: 2.4754e-05 - accuracy: 1.0000\n",
      "Epoch 13/20\n",
      "527/527 [==============================] - 12s 22ms/step - loss: 1.6208e-05 - accuracy: 1.0000\n",
      "Epoch 14/20\n",
      "527/527 [==============================] - 12s 22ms/step - loss: 1.3018e-05 - accuracy: 1.0000\n",
      "Epoch 15/20\n",
      "527/527 [==============================] - 12s 22ms/step - loss: 8.2885e-06 - accuracy: 1.0000\n",
      "Epoch 16/20\n",
      "527/527 [==============================] - 12s 22ms/step - loss: 5.6744e-06 - accuracy: 1.0000\n",
      "Epoch 17/20\n",
      "527/527 [==============================] - 12s 23ms/step - loss: 4.5863e-06 - accuracy: 1.0000\n",
      "Epoch 18/20\n",
      "527/527 [==============================] - 13s 25ms/step - loss: 3.0360e-06 - accuracy: 1.0000\n",
      "Epoch 19/20\n",
      "527/527 [==============================] - 13s 24ms/step - loss: 2.7587e-06 - accuracy: 1.0000\n",
      "Epoch 20/20\n",
      "527/527 [==============================] - 12s 24ms/step - loss: 2.3133e-06 - accuracy: 1.0000\n"
     ]
    },
    {
     "data": {
      "text/plain": [
       "<tensorflow.python.keras.callbacks.History at 0x23cc9a10130>"
      ]
     },
     "execution_count": 28,
     "metadata": {},
     "output_type": "execute_result"
    }
   ],
   "source": [
    "import tensorflow as tf\n",
    "from tensorflow.keras import datasets, layers, models\n",
    "\n",
    "\n",
    "cnn = models.Sequential([\n",
    "    layers.Conv2D(filters=32, kernel_size=(3, 3), activation='relu', input_shape=(30, 30, 3)),\n",
    "    layers.MaxPooling2D((2, 2)),\n",
    "    \n",
    "    layers.Conv2D(filters=64, kernel_size=(3, 3), activation='relu'),\n",
    "    layers.MaxPooling2D((2, 2)),\n",
    "    \n",
    "    layers.Conv2D(filters=128, kernel_size=(3, 3), activation='relu'),\n",
    "    layers.MaxPooling2D((2, 2)),\n",
    "    \n",
    "    layers.Flatten(),\n",
    "    layers.Dense(64, activation='relu'),\n",
    "    layers.Dense(11, activation='softmax')\n",
    "])\n",
    "\n",
    "\n",
    "\n",
    "cnn.compile(optimizer='adam',\n",
    "              loss='sparse_categorical_crossentropy',\n",
    "              metrics=['accuracy'])\n",
    "\n",
    "cnn.fit(x_train, y_train, epochs=20)"
   ]
  },
  {
   "cell_type": "code",
   "execution_count": 29,
   "id": "vocal-genesis",
   "metadata": {},
   "outputs": [
    {
     "name": "stdout",
     "output_type": "stream",
     "text": [
      "176/176 [==============================] - 2s 7ms/step - loss: 8.1900e-04 - accuracy: 0.9996\n"
     ]
    },
    {
     "data": {
      "text/plain": [
       "[0.000819004257209599, 0.999643862247467]"
      ]
     },
     "execution_count": 29,
     "metadata": {},
     "output_type": "execute_result"
    }
   ],
   "source": [
    "cnn.evaluate(x_test,y_test)"
   ]
  },
  {
   "cell_type": "code",
   "execution_count": 30,
   "id": "cooperative-variance",
   "metadata": {},
   "outputs": [
    {
     "data": {
      "text/plain": [
       "Text(0.5, 42.0, 'Predicted')"
      ]
     },
     "execution_count": 30,
     "metadata": {},
     "output_type": "execute_result"
    },
    {
     "data": {
      "image/png": "[encoded data removed]",
      "text/plain": [
       "<Figure size 720x504 with 2 Axes>"
      ]
     },
     "metadata": {
      "needs_background": "light"
     },
     "output_type": "display_data"
    }
   ],
   "source": [
    "from sklearn.metrics import confusion_matrix\n",
    "import seaborn as sb\n",
    "import matplotlib.pyplot as plt\n",
    "\n",
    "y_predicted = cnn.predict(x_test)\n",
    "y_predicted = np.argmax(y_predicted, axis=1)\n",
    "cm = confusion_matrix(y_test,y_predicted)\n",
    "plt.figure(figsize = (10,7))\n",
    "sb.heatmap(cm, annot=True, fmt=\".1f\")\n",
    "plt.xlabel('Predicted')"
   ]
  },
  {
   "cell_type": "code",
   "execution_count": 31,
   "id": "portable-science",
   "metadata": {},
   "outputs": [
    {
     "name": "stdout",
     "output_type": "stream",
     "text": [
      "              precision    recall  f1-score   support\n",
      "\n",
      "           0       1.00      1.00      1.00       215\n",
      "           1       1.00      1.00      1.00       451\n",
      "           2       1.00      1.00      1.00       821\n",
      "           3       1.00      1.00      1.00       857\n",
      "           4       1.00      1.00      1.00      1006\n",
      "           5       1.00      1.00      1.00       140\n",
      "           6       1.00      1.00      1.00        91\n",
      "           7       1.00      1.00      1.00       107\n",
      "           8       1.00      1.00      1.00       139\n",
      "           9       0.99      1.00      1.00       166\n",
      "          10       1.00      1.00      1.00      1623\n",
      "\n",
      "    accuracy                           1.00      5616\n",
      "   macro avg       1.00      1.00      1.00      5616\n",
      "weighted avg       1.00      1.00      1.00      5616\n",
      "\n"
     ]
    }
   ],
   "source": [
    "from sklearn.metrics import classification_report\n",
    "print(classification_report(y_test,y_predicted))"
   ]
  },
  {
   "cell_type": "code",
   "execution_count": 32,
   "id": "framed-mileage",
   "metadata": {},
   "outputs": [
    {
     "name": "stdout",
     "output_type": "stream",
     "text": [
      "Model: \"sequential_4\"\n",
      "_________________________________________________________________\n",
      "Layer (type)                 Output Shape              Param #   \n",
      "=================================================================\n",
      "conv2d_20 (Conv2D)           (None, 28, 28, 32)        896       \n",
      "_________________________________________________________________\n",
      "max_pooling2d_13 (MaxPooling (None, 14, 14, 32)        0         \n",
      "_________________________________________________________________\n",
      "conv2d_21 (Conv2D)           (None, 12, 12, 64)        18496     \n",
      "_________________________________________________________________\n",
      "max_pooling2d_14 (MaxPooling (None, 6, 6, 64)          0         \n",
      "_________________________________________________________________\n",
      "conv2d_22 (Conv2D)           (None, 4, 4, 128)         73856     \n",
      "_________________________________________________________________\n",
      "max_pooling2d_15 (MaxPooling (None, 2, 2, 128)         0         \n",
      "_________________________________________________________________\n",
      "flatten_4 (Flatten)          (None, 512)               0         \n",
      "_________________________________________________________________\n",
      "dense_8 (Dense)              (None, 64)                32832     \n",
      "_________________________________________________________________\n",
      "dense_9 (Dense)              (None, 11)                715       \n",
      "=================================================================\n",
      "Total params: 126,795\n",
      "Trainable params: 126,795\n",
      "Non-trainable params: 0\n",
      "_________________________________________________________________\n"
     ]
    }
   ],
   "source": [
    "cnn.summary()"
   ]
  },
  {
   "cell_type": "code",
   "execution_count": 33,
   "id": "grand-compatibility",
   "metadata": {},
   "outputs": [],
   "source": [
    "cnn.save('models/charachter-plate-new-model.h5')"
   ]
  },
  {
   "cell_type": "code",
   "execution_count": 34,
   "id": "partial-terrorism",
   "metadata": {},
   "outputs": [
    {
     "name": "stdout",
     "output_type": "stream",
     "text": [
      "Model: \"sequential_4\"\n",
      "_________________________________________________________________\n",
      "Layer (type)                 Output Shape              Param #   \n",
      "=================================================================\n",
      "conv2d_20 (Conv2D)           (None, 28, 28, 32)        896       \n",
      "_________________________________________________________________\n",
      "max_pooling2d_13 (MaxPooling (None, 14, 14, 32)        0         \n",
      "_________________________________________________________________\n",
      "conv2d_21 (Conv2D)           (None, 12, 12, 64)        18496     \n",
      "_________________________________________________________________\n",
      "max_pooling2d_14 (MaxPooling (None, 6, 6, 64)          0         \n",
      "_________________________________________________________________\n",
      "conv2d_22 (Conv2D)           (None, 4, 4, 128)         73856     \n",
      "_________________________________________________________________\n",
      "max_pooling2d_15 (MaxPooling (None, 2, 2, 128)         0         \n",
      "_________________________________________________________________\n",
      "flatten_4 (Flatten)          (None, 512)               0         \n",
      "_________________________________________________________________\n",
      "dense_8 (Dense)              (None, 64)                32832     \n",
      "_________________________________________________________________\n",
      "dense_9 (Dense)              (None, 11)                715       \n",
      "=================================================================\n",
      "Total params: 126,795\n",
      "Trainable params: 126,795\n",
      "Non-trainable params: 0\n",
      "_________________________________________________________________\n"
     ]
    }
   ],
   "source": [
    "from tensorflow.keras.models import load_model\n",
    "\n",
    "test_model = load_model('models/charachter-plate-new-model.h5')\n",
    "test_model.summary()"
   ]
  },
  {
   "cell_type": "code",
   "execution_count": 35,
   "id": "large-muscle",
   "metadata": {},
   "outputs": [],
   "source": [
    "classes = [\"0\",\"1\",\"2\",\"3\",\"4\",\"5\",\"6\",\"7\",\"8\",\"9\",\"F\"]"
   ]
  },
  {
   "cell_type": "code",
   "execution_count": 36,
   "id": "executive-tyler",
   "metadata": {},
   "outputs": [],
   "source": [
    "import matplotlib.pyplot as plt\n",
    "import numpy as np\n",
    "\n",
    "def plot_predict(img_plot, model):\n",
    "    plt.figure(figsize = (15,2))\n",
    "    plt.imshow(img_plot)\n",
    "    dim = (30,30)\n",
    "    img_plot = cv.resize(img_plot, dim, interpolation = cv.INTER_AREA)\n",
    "    img_plot = np.asarray(img_plot).reshape((1, 30, 30, 3))\n",
    "    plt.xlabel(f'Predict {classes[np.argmax(model.predict(img_plot))]}')\n",
    "    plt.ylabel(f'Predict {classes[np.argmax(model.predict(img_plot))]}')"
   ]
  },
  {
   "cell_type": "code",
   "execution_count": 38,
   "id": "frequent-nebraska",
   "metadata": {},
   "outputs": [
    {
     "data": {
      "image/png": "[encoded data removed]",
      "text/plain": [
       "<Figure size 1080x144 with 1 Axes>"
      ]
     },
     "metadata": {
      "needs_background": "light"
     },
     "output_type": "display_data"
    }
   ],
   "source": [
    "import cv2 as cv\n",
    "from keras.preprocessing.image import img_to_array\n",
    "\n",
    "test_image = cv.imread('test/test.jpg')\n",
    "\n",
    "plot_predict(test_image, test_model)"
   ]
  },
  {
   "cell_type": "code",
   "execution_count": null,
   "id": "dramatic-bargain",
   "metadata": {},
   "outputs": [],
   "source": []
  }
 ],
 "metadata": {
  "kernelspec": {
   "display_name": "Python 3",
   "language": "python",
   "name": "python3"
  },
  "language_info": {
   "codemirror_mode": {
    "name": "ipython",
    "version": 3
   },
   "file_extension": ".py",
   "mimetype": "text/x-python",
   "name": "python",
   "nbconvert_exporter": "python",
   "pygments_lexer": "ipython3",
   "version": "3.8.8"
  }
 },
 "nbformat": 4,
 "nbformat_minor": 5
}
